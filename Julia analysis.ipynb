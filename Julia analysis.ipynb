{
 "cells": [
  {
   "cell_type": "code",
   "execution_count": null,
   "metadata": {
    "collapsed": false
   },
   "outputs": [],
   "source": [
    "using DataFrames\n",
    "table = readtable(\"testfile.txt\", separator = '\\t')"
   ]
  },
  {
   "cell_type": "code",
   "execution_count": null,
   "metadata": {
    "collapsed": false
   },
   "outputs": [],
   "source": [
    "text = table[:text]"
   ]
  },
  {
   "cell_type": "code",
   "execution_count": 3,
   "metadata": {
    "collapsed": false
   },
   "outputs": [
    {
     "name": "stderr",
     "output_type": "stream",
     "text": [
      "WARNING: using TextAnalysis.text in module Main conflicts with an existing identifier.\n"
     ]
    }
   ],
   "source": []
  },
  {
   "cell_type": "code",
   "execution_count": 8,
   "metadata": {
    "collapsed": false
   },
   "outputs": [
    {
     "data": {
      "text/plain": [
       "Dict{SubString{String},Int64} with 5 entries:\n",
       "  \"or\"  => 1\n",
       "  \"not\" => 1\n",
       "  \"to\"  => 1\n",
       "  \"To\"  => 1\n",
       "  \"be\"  => 2"
      ]
     },
     "execution_count": 8,
     "metadata": {},
     "output_type": "execute_result"
    }
   ],
   "source": [
    "\n",
    "str = \" To be or not to be\"\n",
    "sd = StringDocument(str)\n",
    "tokens(sd)\n",
    "ngrams(sd)"
   ]
  },
  {
   "cell_type": "code",
   "execution_count": 17,
   "metadata": {
    "collapsed": false
   },
   "outputs": [
    {
     "data": {
      "text/plain": [
       "\"RT @Trendplayer007 #China appears to be resisting the planting Genetically Modified Crops on a commercial scale  Well done  \\n\""
      ]
     },
     "execution_count": 17,
     "metadata": {},
     "output_type": "execute_result"
    }
   ],
   "source": [
    "length(text)\n",
    "indices(text)\n",
    "text[1]"
   ]
  },
  {
   "cell_type": "code",
   "execution_count": null,
   "metadata": {
    "collapsed": false
   },
   "outputs": [],
   "source": [
    "string = \"\"\n",
    "for i in text\n",
    "    string = string * i\n",
    "end\n",
    "@show string"
   ]
  },
  {
   "cell_type": "code",
   "execution_count": null,
   "metadata": {
    "collapsed": false
   },
   "outputs": [],
   "source": []
  },
  {
   "cell_type": "code",
   "execution_count": 25,
   "metadata": {
    "collapsed": false
   },
   "outputs": [
    {
     "data": {
      "text/plain": [
       "\"world\""
      ]
     },
     "execution_count": 25,
     "metadata": {},
     "output_type": "execute_result"
    }
   ],
   "source": [
    " whom = \"world\"\n",
    "\n"
   ]
  },
  {
   "cell_type": "code",
   "execution_count": 35,
   "metadata": {
    "collapsed": false
   },
   "outputs": [
    {
     "ename": "LoadError",
     "evalue": "MethodError: objects of type String are not callable",
     "output_type": "error",
     "traceback": [
      "MethodError: objects of type String are not callable",
      ""
     ]
    }
   ],
   "source": [
    "A  = string(greet)  + string(whom)"
   ]
  },
  {
   "cell_type": "code",
   "execution_count": null,
   "metadata": {
    "collapsed": true
   },
   "outputs": [],
   "source": []
  },
  {
   "cell_type": "code",
   "execution_count": 27,
   "metadata": {
    "collapsed": false
   },
   "outputs": [
    {
     "ename": "LoadError",
     "evalue": "MethodError: no method matching split(::Array{SubString{String},1}, ::Regex)\u001b[0m\nClosest candidates are:\n  split{T<:SubString{T<:AbstractString}}(\u001b[1m\u001b[31m::T<:SubString{T<:AbstractString}\u001b[0m, ::Any; limit, keep) at strings/util.jl:126\n  split{T<:AbstractString}(\u001b[1m\u001b[31m::T<:AbstractString\u001b[0m, ::Any; limit, keep) at strings/util.jl:127\u001b[0m",
     "output_type": "error",
     "traceback": [
      "MethodError: no method matching split(::Array{SubString{String},1}, ::Regex)\u001b[0m\nClosest candidates are:\n  split{T<:SubString{T<:AbstractString}}(\u001b[1m\u001b[31m::T<:SubString{T<:AbstractString}\u001b[0m, ::Any; limit, keep) at strings/util.jl:126\n  split{T<:AbstractString}(\u001b[1m\u001b[31m::T<:AbstractString\u001b[0m, ::Any; limit, keep) at strings/util.jl:127\u001b[0m",
      ""
     ]
    }
   ],
   "source": [
    "sample = split(sample, r\"\\s+\")\n",
    "  \n",
    "tokens = Dict()\n",
    "  \n",
    "  for m in 1\n",
    "    for index in 1:(length(words) - m + 1)\n",
    "      token = join(words[index:(index + m - 1)], \" \")\n",
    "      if has(tokens, token)\n",
    "        tokens[token] = tokens[token] + 1\n",
    "      else\n",
    "        tokens[token] = 1\n",
    "      end\n",
    "    end\n",
    "  end\n",
    "  \n",
    "  tokens\n",
    "end"
   ]
  },
  {
   "cell_type": "code",
   "execution_count": null,
   "metadata": {
    "collapsed": true
   },
   "outputs": [],
   "source": []
  },
  {
   "cell_type": "code",
   "execution_count": null,
   "metadata": {
    "collapsed": true
   },
   "outputs": [],
   "source": []
  }
 ],
 "metadata": {
  "kernelspec": {
   "display_name": "Julia 0.5.1",
   "language": "julia",
   "name": "julia-0.5"
  },
  "language_info": {
   "file_extension": ".jl",
   "mimetype": "application/julia",
   "name": "julia",
   "version": "0.5.1"
  }
 },
 "nbformat": 4,
 "nbformat_minor": 0
}
